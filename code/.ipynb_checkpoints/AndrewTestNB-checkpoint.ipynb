{
 "cells": [
  {
   "cell_type": "code",
   "execution_count": 1,
   "metadata": {
    "scrolled": true
   },
   "outputs": [],
   "source": [
    "import gym\n",
    "import matplotlib.pyplot as plt"
   ]
  },
  {
   "cell_type": "code",
   "execution_count": 2,
   "metadata": {},
   "outputs": [],
   "source": [
    "# Games\n",
    "games = [\"AirRaid\",\"Alien\",\"Amidar\",\"Assault\",\"Asterix\",\"Asteroids\",\n",
    "         \"Atlantis\",\"BankHeist\",\"BattleZone\",\"BeamRider\",\"Berzerk\",\n",
    "         \"Bowling\",\"Boxing\",\"Breakout\",\"Carnival\",\"Centipede\",\n",
    "         \"ChopperCommand\",\"CrazyClimber\",\"DemonAttack\",\"DoubleDunk\",\n",
    "         \"ElevatorAction\",\"Enduro\",\"FishingDerby\",\"Freeway\",\n",
    "         \"Frostbite\",\"Gopher\",\"Gravitar\",\"IceHockey\",\"Jamesbond\",\n",
    "         \"JourneyEscape\",\"Kangaroo\",\"Krull\",\"KungFuMaster\",\n",
    "         \"MontezumaRevenge\",\"MsPacman\",\"NameThisGame\",\"Phoenix\",\n",
    "         \"Pitfall\",\"Pong\",\"Pooyan\",\"PrivateEye\",\"Qbert\",\"Riverraid\",\n",
    "         \"RoadRunner\",\"Robotank\",\"Seaquest\",\"Skiing\",\"Solaris\",\n",
    "         \"SpaceInvaders\",\"StarGunner\",\"Tennis\",\"TimePilot\",\n",
    "         \"Tutankham\",\"UpNDown\",\"Venture\",\"VideoPinball\",\"WizardOfWor\",\n",
    "         \"YarsRevenge\",\"Zaxxon\"]"
   ]
  },
  {
   "cell_type": "code",
   "execution_count": null,
   "metadata": {},
   "outputs": [],
   "source": [
    "# for game in games:\n",
    "#     env = gym.make(game + \"-ram-v0\")"
   ]
  },
  {
   "cell_type": "code",
   "execution_count": 5,
   "metadata": {},
   "outputs": [],
   "source": [
    "env = gym.make(\"Atlantis-ram-v0\")\n",
    "initobs = env.reset()"
   ]
  },
  {
   "cell_type": "code",
   "execution_count": 6,
   "metadata": {},
   "outputs": [],
   "source": [
    "dif = np.zeros((128,))\n",
    "prevobs = env.reset()\n",
    "for i in range(100):\n",
    "    obs, reward, done, info = env.step(env.action_space.sample())\n",
    "    dif += np.abs(obs.astype(int) - initobs.astype(int))\n",
    "    if done:\n",
    "        break"
   ]
  },
  {
   "cell_type": "code",
   "execution_count": 29,
   "metadata": {},
   "outputs": [
    {
     "data": {
      "text/plain": [
       "array([160,  31, 150,  31, 140,  31, 130,  31, 120,  31, 110,  31, 255,\n",
       "         0,   0,   1, 255, 255,  29,   0,  29, 128, 112,  96, 112,  16,\n",
       "        24,   0,   8,   0, 152,  29, 164,   0,   0,   0,   0,   0,   0,\n",
       "        39,   0, 255,   0,  96,   0,  96,   0,  96,   2,  96,   0,  96,\n",
       "         0,  96,   0,  96,   2, 224,   0,   0,   0,   0,   0,   0,   0,\n",
       "         0,   0,  96,   0, 105, 102,   7,   7,   7, 131,   0,   0,   0,\n",
       "         1,   0,   0,   0,  64,   0,   0,   0,   0,   0,   0,   0,   0,\n",
       "         0,   0,   0,   0,   0,   0,   0,   0,   7, 186, 198, 192,  48,\n",
       "       224,   0,   0,   0,   0,   0,   0,   1, 255,   6,   0,   0,   0,\n",
       "         0,   0,   0,   0,   0,  63,   0, 255,   2, 115,  21], dtype=uint8)"
      ]
     },
     "execution_count": 29,
     "metadata": {},
     "output_type": "execute_result"
    }
   ],
   "source": [
    "initobs"
   ]
  },
  {
   "cell_type": "code",
   "execution_count": 30,
   "metadata": {},
   "outputs": [
    {
     "data": {
      "text/plain": [
       "array([100,  31, 100,  31, 100,  31, 100,  31, 100,  31, 100,  31, 255,\n",
       "         0,   1,   0, 255, 255,  29,   0,  29, 128, 120,  96, 120,  16,\n",
       "        24,   0,   8,   0, 152,  29, 162,   0,   0,   0,   0,   0,   0,\n",
       "       149,   0, 255,   0,  96,   0,  96,   0,  96,   9, 240,   0,  96,\n",
       "         0,  96,   0,  96,  10,  96,   0,   0,   0,   0,   0,   0,   0,\n",
       "         0,   0,  96, 140, 151, 102,   7,   7,   7,   3,   0,   0,   0,\n",
       "       255,   0,   0,   0,  48,   1,   0,   0,   0,   0,   0,   0,   0,\n",
       "         0,   0,   0,   0,   0,   0,   0,   0,   7, 186, 198, 192,  48,\n",
       "       224,   0,   0,   0,   0,   0,   0,   0,   9,   6,   0,   0,  10,\n",
       "         0,   0,   1,   0,   1,  67,   0, 255,   2, 115,  21], dtype=uint8)"
      ]
     },
     "execution_count": 30,
     "metadata": {},
     "output_type": "execute_result"
    }
   ],
   "source": [
    "obs"
   ]
  },
  {
   "cell_type": "code",
   "execution_count": 27,
   "metadata": {},
   "outputs": [
    {
     "data": {
      "text/plain": [
       "array([ -60,    0,  -50,    0,  -40,    0,  -30,    0,  -20,    0,  -10,\n",
       "          0,    0,    0,    1,   -1,    0,    0,    0,    0,    0,    0,\n",
       "          8,    0,    8,    0,    0,    0,    0,    0,    0,    0,   -2,\n",
       "          0,    0,    0,    0,    0,    0,  110,    0,    0,    0,    0,\n",
       "          0,    0,    0,    0,    7,  144,    0,    0,    0,    0,    0,\n",
       "          0,    8, -128,    0,    0,    0,    0,    0,    0,    0,    0,\n",
       "          0,    0,  140,   46,    0,    0,    0,    0, -128,    0,    0,\n",
       "          0,  254,    0,    0,    0,  -16,    1,    0,    0,    0,    0,\n",
       "          0,    0,    0,    0,    0,    0,    0,    0,    0,    0,    0,\n",
       "          0,    0,    0,    0,    0,    0,    0,    0,    0,    0,    0,\n",
       "          0,   -1, -246,    0,    0,    0,   10,    0,    0,    1,    0,\n",
       "          1,    4,    0,    0,    0,    0,    0])"
      ]
     },
     "execution_count": 27,
     "metadata": {},
     "output_type": "execute_result"
    }
   ],
   "source": [
    "obs.astype(int) - initobs.astype(int)"
   ]
  },
  {
   "cell_type": "code",
   "execution_count": null,
   "metadata": {},
   "outputs": [],
   "source": [
    "for i_episode in range(20):\n",
    "    observation = env.reset()\n",
    "    for t in range(100):\n",
    "        env.render()\n",
    "#         print(observation)\n",
    "        action = env.action_space.sample()\n",
    "        observation, reward, done, info = env.step(action)\n",
    "        break\n",
    "        if reward != 0.0:\n",
    "            print reward, info\n",
    "        if done:\n",
    "            print(\"Episode finished after {} timesteps\".format(t+1))\n",
    "            break"
   ]
  }
 ],
 "metadata": {
  "kernelspec": {
   "display_name": "Python 2",
   "language": "python",
   "name": "python2"
  },
  "language_info": {
   "codemirror_mode": {
    "name": "ipython",
    "version": 2
   },
   "file_extension": ".py",
   "mimetype": "text/x-python",
   "name": "python",
   "nbconvert_exporter": "python",
   "pygments_lexer": "ipython2",
   "version": "2.7.6"
  }
 },
 "nbformat": 4,
 "nbformat_minor": 2
}
