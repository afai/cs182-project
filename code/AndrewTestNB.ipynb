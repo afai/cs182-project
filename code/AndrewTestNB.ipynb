{
 "cells": [
  {
   "cell_type": "code",
   "execution_count": 32,
   "metadata": {
    "scrolled": true
   },
   "outputs": [],
   "source": [
    "import gym\n",
    "import matplotlib.pyplot as plt\n",
    "import numpy as np"
   ]
  },
  {
   "cell_type": "code",
   "execution_count": 2,
   "metadata": {},
   "outputs": [],
   "source": [
    "# Games\n",
    "games = [\"AirRaid\",\"Alien\",\"Amidar\",\"Assault\",\"Asterix\",\"Asteroids\",\n",
    "         \"Atlantis\",\"BankHeist\",\"BattleZone\",\"BeamRider\",\"Berzerk\",\n",
    "         \"Bowling\",\"Boxing\",\"Breakout\",\"Carnival\",\"Centipede\",\n",
    "         \"ChopperCommand\",\"CrazyClimber\",\"DemonAttack\",\"DoubleDunk\",\n",
    "         \"ElevatorAction\",\"Enduro\",\"FishingDerby\",\"Freeway\",\n",
    "         \"Frostbite\",\"Gopher\",\"Gravitar\",\"IceHockey\",\"Jamesbond\",\n",
    "         \"JourneyEscape\",\"Kangaroo\",\"Krull\",\"KungFuMaster\",\n",
    "         \"MontezumaRevenge\",\"MsPacman\",\"NameThisGame\",\"Phoenix\",\n",
    "         \"Pitfall\",\"Pong\",\"Pooyan\",\"PrivateEye\",\"Qbert\",\"Riverraid\",\n",
    "         \"RoadRunner\",\"Robotank\",\"Seaquest\",\"Skiing\",\"Solaris\",\n",
    "         \"SpaceInvaders\",\"StarGunner\",\"Tennis\",\"TimePilot\",\n",
    "         \"Tutankham\",\"UpNDown\",\"Venture\",\"VideoPinball\",\"WizardOfWor\",\n",
    "         \"YarsRevenge\",\"Zaxxon\"]"
   ]
  },
  {
   "cell_type": "code",
   "execution_count": null,
   "metadata": {},
   "outputs": [],
   "source": [
    "# for game in games:\n",
    "#     env = gym.make(game + \"-ram-v0\")"
   ]
  },
  {
   "cell_type": "code",
   "execution_count": 5,
   "metadata": {},
   "outputs": [],
   "source": [
    "env = gym.make(\"Atlantis-ram-v0\")\n",
    "initobs = env.reset()"
   ]
  },
  {
   "cell_type": "code",
   "execution_count": 53,
   "metadata": {},
   "outputs": [
    {
     "data": {
      "text/plain": [
       "array([  300.,     0.,   250.,     0.,   200.,     0.,   150.,     0.,\n",
       "         100.,     0.,    50.,     0.,     0.,     0.,     5.,     2.,\n",
       "           0.,     0.,     0.,     0.,     0.,     0.,    24.,    16.,\n",
       "          24.,     0.,     0.,     0.,     0.,     0.,     0.,     0.,\n",
       "          10.,     0.,     0.,     0.,     0.,     0.,     0.,   512.,\n",
       "           0.,     0.,     0.,     0.,     0.,     0.,     0.,     0.,\n",
       "          33.,   432.,     0.,     0.,     0.,     0.,     0.,     0.,\n",
       "          36.,   512.,     0.,    97.,     0.,    75.,     0.,     0.,\n",
       "           0.,     0.,     0.,     0.,   422.,   224.,   168.,     0.,\n",
       "           0.,     0.,   640.,     0.,     0.,     0.,  1270.,     0.,\n",
       "           0.,     0.,   112.,     5.,     0.,     0.,     0.,     0.,\n",
       "           0.,     0.,     0.,     0.,     0.,     0.,     3.,     0.,\n",
       "           0.,     0.,     0.,     0.,     0.,     0.,     0.,     0.,\n",
       "           0.,     0.,    27.,     0.,     0.,     0.,     0.,     5.,\n",
       "        1230.,     0.,     0.,     0.,    50.,     0.,     0.,     5.,\n",
       "           0.,     5.,    58.,     0.,     0.,     0.,     0.,     0.])"
      ]
     },
     "execution_count": 53,
     "metadata": {},
     "output_type": "execute_result"
    }
   ],
   "source": [
    "dif = np.zeros((128,))\n",
    "prevobs = env.reset()\n",
    "for i in range(5):\n",
    "    obs, reward, done, info = env.step(env.action_space.sample())\n",
    "    dif += np.abs(obs.astype(int) - initobs.astype(int))\n",
    "    if done:\n",
    "        break\n",
    "dif"
   ]
  },
  {
   "cell_type": "code",
   "execution_count": 40,
   "metadata": {},
   "outputs": [],
   "source": [
    "nz2 = np.nonzero(dif)"
   ]
  },
  {
   "cell_type": "code",
   "execution_count": 48,
   "metadata": {},
   "outputs": [
    {
     "data": {
      "text/plain": [
       "(array([  0,   2,   4,   6,   8,  10,  14,  15,  22,  23,  24,  32,  39,\n",
       "         48,  49,  56,  57,  59,  61,  68,  69,  70,  74,  78,  82,  83,\n",
       "         94, 106, 111, 112, 116, 119, 121, 122]),)"
      ]
     },
     "execution_count": 48,
     "metadata": {},
     "output_type": "execute_result"
    }
   ],
   "source": [
    "nz"
   ]
  },
  {
   "cell_type": "code",
   "execution_count": 52,
   "metadata": {},
   "outputs": [
    {
     "data": {
      "text/plain": [
       "54"
      ]
     },
     "execution_count": 52,
     "metadata": {},
     "output_type": "execute_result"
    }
   ],
   "source": [
    "len(nz2[0])"
   ]
  },
  {
   "cell_type": "code",
   "execution_count": 27,
   "metadata": {},
   "outputs": [
    {
     "data": {
      "text/plain": [
       "array([ -60,    0,  -50,    0,  -40,    0,  -30,    0,  -20,    0,  -10,\n",
       "          0,    0,    0,    1,   -1,    0,    0,    0,    0,    0,    0,\n",
       "          8,    0,    8,    0,    0,    0,    0,    0,    0,    0,   -2,\n",
       "          0,    0,    0,    0,    0,    0,  110,    0,    0,    0,    0,\n",
       "          0,    0,    0,    0,    7,  144,    0,    0,    0,    0,    0,\n",
       "          0,    8, -128,    0,    0,    0,    0,    0,    0,    0,    0,\n",
       "          0,    0,  140,   46,    0,    0,    0,    0, -128,    0,    0,\n",
       "          0,  254,    0,    0,    0,  -16,    1,    0,    0,    0,    0,\n",
       "          0,    0,    0,    0,    0,    0,    0,    0,    0,    0,    0,\n",
       "          0,    0,    0,    0,    0,    0,    0,    0,    0,    0,    0,\n",
       "          0,   -1, -246,    0,    0,    0,   10,    0,    0,    1,    0,\n",
       "          1,    4,    0,    0,    0,    0,    0])"
      ]
     },
     "execution_count": 27,
     "metadata": {},
     "output_type": "execute_result"
    }
   ],
   "source": [
    "obs.astype(int) - initobs.astype(int)"
   ]
  },
  {
   "cell_type": "code",
   "execution_count": null,
   "metadata": {},
   "outputs": [],
   "source": [
    "for i_episode in range(20):\n",
    "    observation = env.reset()\n",
    "    for t in range(100):\n",
    "        env.render()\n",
    "#         print(observation)\n",
    "        action = env.action_space.sample()\n",
    "        observation, reward, done, info = env.step(action)\n",
    "        break\n",
    "        if reward != 0.0:\n",
    "            print reward, info\n",
    "        if done:\n",
    "            print(\"Episode finished after {} timesteps\".format(t+1))\n",
    "            break"
   ]
  }
 ],
 "metadata": {
  "kernelspec": {
   "display_name": "Python 2",
   "language": "python",
   "name": "python2"
  },
  "language_info": {
   "codemirror_mode": {
    "name": "ipython",
    "version": 2
   },
   "file_extension": ".py",
   "mimetype": "text/x-python",
   "name": "python",
   "nbconvert_exporter": "python",
   "pygments_lexer": "ipython2",
   "version": "2.7.6"
  }
 },
 "nbformat": 4,
 "nbformat_minor": 2
}
